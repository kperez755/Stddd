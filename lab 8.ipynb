{
 "cells": [
  {
   "cell_type": "markdown",
   "id": "9f1c514e",
   "metadata": {},
   "source": [
    "Height of Ramp = .305m\n",
    "Height from floor = .875m\n",
    "\n",
    "    Using the formula from chapter 3 we calculated the amount of time it took for the ball to hit the ground from the launch point. First our formula was h = (v^2/2g) and then we changed it to the formula we used which was sqrt(2h/g)\n",
    "\n",
    "sqrt(2h/g) = 2(.875)/9.8 = .4225\n",
    " \n",
    "v = sqrt(2gh) = 2.445m/s\n",
    "\n",
    "\n",
    "\n",
    "length = vt = 1.033 m"
   ]
  }
 ],
 "metadata": {
  "kernelspec": {
   "display_name": "Python 3 (ipykernel)",
   "language": "python",
   "name": "python3"
  },
  "language_info": {
   "codemirror_mode": {
    "name": "ipython",
    "version": 3
   },
   "file_extension": ".py",
   "mimetype": "text/x-python",
   "name": "python",
   "nbconvert_exporter": "python",
   "pygments_lexer": "ipython3",
   "version": "3.9.12"
  }
 },
 "nbformat": 4,
 "nbformat_minor": 5
}
